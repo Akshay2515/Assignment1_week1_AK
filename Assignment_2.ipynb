{
 "cells": [
  {
   "cell_type": "markdown",
   "id": "40301459-2c11-42ee-8db8-826eab9fcf0e",
   "metadata": {},
   "source": [
    "## Question 1: How do you comment code in Python? What are the different types of comments?"
   ]
  },
  {
   "cell_type": "markdown",
   "id": "3a2723f7-ef8e-4868-b188-70a9776045f2",
   "metadata": {},
   "source": [
    "### Solution:  Comments are very important while writing a program. They describe what is going on inside a program, so that a person looking at the source code does not have a hard time figuring it out. \n",
    "### You might forget the key details of the program you just wrote in a month's time. So taking the time to explain these concepts in the form of comments is always fruitful.\n",
    "### In Python, we use the hash (#) symbol to start writing a comment.\n",
    "### It extends up to the newline character. Comments are for programmers to better understand a program. Python Interpreter ignores comments."
   ]
  },
  {
   "cell_type": "code",
   "execution_count": 1,
   "id": "f14306f9-660d-4c1b-ab60-18e164180e7a",
   "metadata": {},
   "outputs": [],
   "source": [
    "# This is a long comment\n",
    "# and it extends\n",
    "# to multiple lines"
   ]
  },
  {
   "cell_type": "markdown",
   "id": "3c1596c0-e76c-4390-b91c-3fae0ec53705",
   "metadata": {},
   "source": [
    "### Another way of doing this is to use triple quotes, either ''' or \"\"\".\n",
    "### These triple quotes are generally used for multi-line strings. But they can be used as a multi-line comment as well. Unless they are not docstrings, they do not generate any extra code"
   ]
  },
  {
   "cell_type": "code",
   "execution_count": 2,
   "id": "7a8b1565-ddfb-47a0-b79d-1c136cd00d51",
   "metadata": {},
   "outputs": [
    {
     "data": {
      "text/plain": [
       "'This is also a\\nperfect example of\\nahjcdjh\\nsdjbdkjas\\nmnbscjsab\\nbkjabfa\\nmulti-line comments'"
      ]
     },
     "execution_count": 2,
     "metadata": {},
     "output_type": "execute_result"
    }
   ],
   "source": [
    "'''This is also a\n",
    "perfect example of\n",
    "ahjcdjh\n",
    "sdjbdkjas\n",
    "mnbscjsab\n",
    "bkjabfa\n",
    "multi-line comments'''"
   ]
  },
  {
   "cell_type": "markdown",
   "id": "6c17eb40-44c0-4ab1-936f-52002bfc7b63",
   "metadata": {},
   "source": [
    "## Question 2:What are variables in Python? How do you declare and assign values to variables?"
   ]
  },
  {
   "cell_type": "markdown",
   "id": "3e36cdaf-7ba5-4640-8ca5-0224724d8d08",
   "metadata": {},
   "source": [
    "### Variables are the entities that is used to store information and retrieve it later.\n",
    "### A Python variable is a reserved memory location to store values. In other words, a variable in a python program gives data to the computer for processing.\n",
    "### The type of data contained in a variable can be changed at user's will."
   ]
  },
  {
   "cell_type": "markdown",
   "id": "50752d26-e017-42a2-9f29-741ca519d07b",
   "metadata": {},
   "source": [
    "### To declare the variable using the = sign and and assign some value."
   ]
  },
  {
   "cell_type": "code",
   "execution_count": 5,
   "id": "3e0e5554-8d18-4345-9dc6-8cb1441ff860",
   "metadata": {},
   "outputs": [],
   "source": [
    "a = 3\n",
    "b = 'Akshay'\n",
    "c = 3.4\n"
   ]
  },
  {
   "cell_type": "code",
   "execution_count": 6,
   "id": "5dc7ef03-c16e-42b3-8989-97fac5176a13",
   "metadata": {},
   "outputs": [
    {
     "data": {
      "text/plain": [
       "3"
      ]
     },
     "execution_count": 6,
     "metadata": {},
     "output_type": "execute_result"
    }
   ],
   "source": [
    "a"
   ]
  },
  {
   "cell_type": "code",
   "execution_count": 7,
   "id": "8963b5f9-bb26-44fe-ab6d-9d880c9d3a5b",
   "metadata": {},
   "outputs": [
    {
     "data": {
      "text/plain": [
       "'Akshay'"
      ]
     },
     "execution_count": 7,
     "metadata": {},
     "output_type": "execute_result"
    }
   ],
   "source": [
    "b"
   ]
  },
  {
   "cell_type": "code",
   "execution_count": 8,
   "id": "4b121666-2803-49dd-9c0a-0ede789fd329",
   "metadata": {},
   "outputs": [
    {
     "data": {
      "text/plain": [
       "3.4"
      ]
     },
     "execution_count": 8,
     "metadata": {},
     "output_type": "execute_result"
    }
   ],
   "source": [
    "c"
   ]
  },
  {
   "cell_type": "markdown",
   "id": "32a0f0dc-ec91-4ba0-b8ee-e1c58b5e46cd",
   "metadata": {},
   "source": [
    "## Question 3: How do you convert one data type to another in Python?"
   ]
  },
  {
   "cell_type": "markdown",
   "id": "931e9a9c-4e4d-4b1a-939f-cdbc32cf804c",
   "metadata": {},
   "source": [
    "### To convert one data type to another in python using the typecasting"
   ]
  },
  {
   "cell_type": "markdown",
   "id": "676d3d35-c0ae-4f59-9edf-6b0690596203",
   "metadata": {},
   "source": [
    "### Typecasting is a method in python to convert the one data type to another according to the user requirements"
   ]
  },
  {
   "cell_type": "code",
   "execution_count": 9,
   "id": "b8a1e3d5-74ba-4286-870e-9a8037fab76b",
   "metadata": {},
   "outputs": [],
   "source": [
    "a = 3"
   ]
  },
  {
   "cell_type": "code",
   "execution_count": 10,
   "id": "5deb86b6-735c-4ab9-a0cf-b9102def4e2e",
   "metadata": {},
   "outputs": [
    {
     "data": {
      "text/plain": [
       "int"
      ]
     },
     "execution_count": 10,
     "metadata": {},
     "output_type": "execute_result"
    }
   ],
   "source": [
    "type(a)"
   ]
  },
  {
   "cell_type": "code",
   "execution_count": 16,
   "id": "67a20de9-ccfa-4ddb-a4cc-57f4040eb7e3",
   "metadata": {},
   "outputs": [
    {
     "data": {
      "text/plain": [
       "'3'"
      ]
     },
     "execution_count": 16,
     "metadata": {},
     "output_type": "execute_result"
    }
   ],
   "source": [
    "str(a)  #to convert the string(typecasting)"
   ]
  },
  {
   "cell_type": "markdown",
   "id": "749eb1e2-9116-4d66-b98f-e3a1cdf33238",
   "metadata": {},
   "source": [
    "## Question 4: How do you write and execute a Python script from the command line?"
   ]
  },
  {
   "cell_type": "markdown",
   "id": "b2616fff-fd9e-459f-9915-f44562a62a0f",
   "metadata": {},
   "source": [
    "### You need to open a command line and type the word python followed by the path to your script file like this: python first_script.py Hello World! Then you hit the ENTER button from the keyboard, and that's it."
   ]
  },
  {
   "cell_type": "markdown",
   "id": "c152f63e-411c-4dc9-8627-6e9f4639230f",
   "metadata": {},
   "source": [
    "## Question 5: Given a list my_list = [1, 2, 3, 4, 5], write the code to slice the list and obtain the sub-list [2, 3]."
   ]
  },
  {
   "cell_type": "code",
   "execution_count": 17,
   "id": "c969e861-6b12-4b22-9045-ced49377c06e",
   "metadata": {},
   "outputs": [],
   "source": [
    "my_list = [1,2,3,4,5]"
   ]
  },
  {
   "cell_type": "code",
   "execution_count": 18,
   "id": "f89d25d3-caa2-409e-88c2-e229aaf1f504",
   "metadata": {},
   "outputs": [
    {
     "data": {
      "text/plain": [
       "[1, 2, 3]"
      ]
     },
     "execution_count": 18,
     "metadata": {},
     "output_type": "execute_result"
    }
   ],
   "source": [
    "my_list[0:3] #slicing the list"
   ]
  },
  {
   "cell_type": "code",
   "execution_count": 20,
   "id": "2df09e44-4fed-4075-ac96-76283dd6f5c0",
   "metadata": {},
   "outputs": [
    {
     "data": {
      "text/plain": [
       "[5, 4, 3, 2, 1]"
      ]
     },
     "execution_count": 20,
     "metadata": {},
     "output_type": "execute_result"
    }
   ],
   "source": [
    "my_list[::-1]"
   ]
  },
  {
   "cell_type": "code",
   "execution_count": 21,
   "id": "9c8ff173-bb0e-41e9-84f9-519016ae8964",
   "metadata": {},
   "outputs": [
    {
     "data": {
      "text/plain": [
       "[1, 3, 5]"
      ]
     },
     "execution_count": 21,
     "metadata": {},
     "output_type": "execute_result"
    }
   ],
   "source": [
    "my_list[::2]"
   ]
  },
  {
   "cell_type": "markdown",
   "id": "6eeb68d7-6dd0-4067-a1af-ef6881bc773a",
   "metadata": {},
   "source": [
    "### Obtain the Sub-list [2,3]"
   ]
  },
  {
   "cell_type": "code",
   "execution_count": 22,
   "id": "59623e44-5af3-4b8a-9455-0c599bab8341",
   "metadata": {},
   "outputs": [
    {
     "data": {
      "text/plain": [
       "[2, 3]"
      ]
     },
     "execution_count": 22,
     "metadata": {},
     "output_type": "execute_result"
    }
   ],
   "source": [
    "my_list[1:3]"
   ]
  },
  {
   "cell_type": "markdown",
   "id": "b5269ee0-ae3b-4854-ac93-bf1545371d02",
   "metadata": {},
   "source": [
    "## Question 6: What is a complex number in mathematics, and how is it represented in Python?"
   ]
  },
  {
   "cell_type": "markdown",
   "id": "767171f6-410c-4d03-859c-41b1ff9d928d",
   "metadata": {},
   "source": [
    "### Complex numbers are the numbers that are expressed in the form of a+ib where, a,b are real numbers and 'i' is an imaginary number called “iota”"
   ]
  },
  {
   "cell_type": "markdown",
   "id": "ca82a48a-14ed-435b-9e1c-e8b438e9f3df",
   "metadata": {},
   "source": [
    "## It is represented in python"
   ]
  },
  {
   "cell_type": "code",
   "execution_count": 23,
   "id": "38633d1f-f820-4810-9f08-200f8db5a40d",
   "metadata": {},
   "outputs": [],
   "source": [
    "a = 3+7j"
   ]
  },
  {
   "cell_type": "code",
   "execution_count": 24,
   "id": "d4c3623c-ccfe-43c4-ab95-1814e3b19d6c",
   "metadata": {},
   "outputs": [
    {
     "data": {
      "text/plain": [
       "complex"
      ]
     },
     "execution_count": 24,
     "metadata": {},
     "output_type": "execute_result"
    }
   ],
   "source": [
    "type(a)"
   ]
  },
  {
   "cell_type": "code",
   "execution_count": 26,
   "id": "ea2cbeb6-6619-4bb2-971d-661a08556561",
   "metadata": {},
   "outputs": [
    {
     "data": {
      "text/plain": [
       "3.0"
      ]
     },
     "execution_count": 26,
     "metadata": {},
     "output_type": "execute_result"
    }
   ],
   "source": [
    "a.real"
   ]
  },
  {
   "cell_type": "markdown",
   "id": "e5505fc7-eaf6-448a-b735-3a8261a2915a",
   "metadata": {},
   "source": [
    "## Question 7: What is the correct way to declare a variable named age and assign the value 25 to it?"
   ]
  },
  {
   "cell_type": "code",
   "execution_count": 29,
   "id": "1300bc26-3001-47c6-be7a-47a440763c38",
   "metadata": {},
   "outputs": [],
   "source": [
    "age = 25  # this is correct way"
   ]
  },
  {
   "cell_type": "code",
   "execution_count": 31,
   "id": "8a3f25da-a0d2-42e9-825a-1835b0575410",
   "metadata": {},
   "outputs": [
    {
     "data": {
      "text/plain": [
       "int"
      ]
     },
     "execution_count": 31,
     "metadata": {},
     "output_type": "execute_result"
    }
   ],
   "source": [
    "type(age)"
   ]
  },
  {
   "cell_type": "code",
   "execution_count": 32,
   "id": "5c619fc8-ee6f-429a-965c-a5677367eb6a",
   "metadata": {},
   "outputs": [],
   "source": [
    "age = '25' #this is wrong way. it can be considered as string"
   ]
  },
  {
   "cell_type": "code",
   "execution_count": 33,
   "id": "6ca4c41c-5c32-4251-aad3-96b3975f8e4c",
   "metadata": {},
   "outputs": [
    {
     "data": {
      "text/plain": [
       "str"
      ]
     },
     "execution_count": 33,
     "metadata": {},
     "output_type": "execute_result"
    }
   ],
   "source": [
    "type(age)"
   ]
  },
  {
   "cell_type": "markdown",
   "id": "cfb688c1-c1bf-4783-904e-7b60171492e4",
   "metadata": {},
   "source": [
    "## Question 8: Declare a variable named price and assign the value 9.99 to it. What data type does this variable belong to?"
   ]
  },
  {
   "cell_type": "code",
   "execution_count": 34,
   "id": "506d093d-01ec-42c4-a074-701f76b2d742",
   "metadata": {},
   "outputs": [],
   "source": [
    "price = 9.99"
   ]
  },
  {
   "cell_type": "code",
   "execution_count": 35,
   "id": "dfbd63f8-da78-412d-ae59-b146e7697662",
   "metadata": {},
   "outputs": [
    {
     "data": {
      "text/plain": [
       "float"
      ]
     },
     "execution_count": 35,
     "metadata": {},
     "output_type": "execute_result"
    }
   ],
   "source": [
    "type(price)"
   ]
  },
  {
   "cell_type": "markdown",
   "id": "6c2c5f1c-dfbe-4aa2-82f8-3470f9682594",
   "metadata": {},
   "source": [
    "## This is Float data type"
   ]
  },
  {
   "cell_type": "markdown",
   "id": "88d439e0-060f-4a8a-b21c-587b49287b09",
   "metadata": {},
   "source": [
    "## Question 9: Create a variable named name and assign your full name to it as a string. How would you print the value of this variable?"
   ]
  },
  {
   "cell_type": "code",
   "execution_count": 36,
   "id": "81e6f6b4-290b-44f5-8f3d-459d21f90376",
   "metadata": {},
   "outputs": [],
   "source": [
    "name = \"Akshay Chhabra\""
   ]
  },
  {
   "cell_type": "code",
   "execution_count": 37,
   "id": "2c4f89cc-b604-4fc7-af4f-17ceb5b0a908",
   "metadata": {},
   "outputs": [
    {
     "name": "stdout",
     "output_type": "stream",
     "text": [
      "Akshay Chhabra\n"
     ]
    }
   ],
   "source": [
    "print(name)"
   ]
  },
  {
   "cell_type": "markdown",
   "id": "d55c674a-668e-4762-8033-180e8639639e",
   "metadata": {},
   "source": [
    "## Question 10: Given the string \"Hello, World!\", extract the substring \"World\"."
   ]
  },
  {
   "cell_type": "code",
   "execution_count": 38,
   "id": "e62789a0-ffc9-4b9b-b1fe-568890e0e3ab",
   "metadata": {},
   "outputs": [],
   "source": [
    "string = \"Hello,World!\" "
   ]
  },
  {
   "cell_type": "code",
   "execution_count": 40,
   "id": "a47ba18a-9d26-45c2-9039-84849cabc482",
   "metadata": {},
   "outputs": [
    {
     "data": {
      "text/plain": [
       "'World'"
      ]
     },
     "execution_count": 40,
     "metadata": {},
     "output_type": "execute_result"
    }
   ],
   "source": [
    "string[-6:-1]"
   ]
  },
  {
   "cell_type": "markdown",
   "id": "086ce05f-6fd4-4b05-aa5a-0a289ccd5005",
   "metadata": {},
   "source": [
    "## Question 11: Create a variable named \"is_student\" and assign it a boolean value indicating whether you are currently a student or not."
   ]
  },
  {
   "cell_type": "code",
   "execution_count": 46,
   "id": "f090ee93-b0bc-4b98-8c96-94f248107424",
   "metadata": {},
   "outputs": [],
   "source": [
    "is_student = True"
   ]
  },
  {
   "cell_type": "code",
   "execution_count": 47,
   "id": "53715984-6b26-4f00-82a9-c18156778729",
   "metadata": {},
   "outputs": [
    {
     "name": "stdout",
     "output_type": "stream",
     "text": [
      "Yes True I'am Student\n"
     ]
    }
   ],
   "source": [
    "if is_student==True:\n",
    "    print(\"Yes {} I'am Student\".format(is_student))\n",
    "else:\n",
    "    print(\"Yes {} I'am Student\".format(is_student))\n"
   ]
  },
  {
   "cell_type": "code",
   "execution_count": null,
   "id": "f67cf3a2-df98-4372-9c00-bf216b1c744d",
   "metadata": {},
   "outputs": [],
   "source": []
  }
 ],
 "metadata": {
  "kernelspec": {
   "display_name": "Python 3 (ipykernel)",
   "language": "python",
   "name": "python3"
  },
  "language_info": {
   "codemirror_mode": {
    "name": "ipython",
    "version": 3
   },
   "file_extension": ".py",
   "mimetype": "text/x-python",
   "name": "python",
   "nbconvert_exporter": "python",
   "pygments_lexer": "ipython3",
   "version": "3.10.8"
  }
 },
 "nbformat": 4,
 "nbformat_minor": 5
}
