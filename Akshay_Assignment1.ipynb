{
 "cells": [
  {
   "cell_type": "markdown",
   "id": "685a6a50-cb21-4eb0-bdc2-4246f055947b",
   "metadata": {},
   "source": [
    "Question 1 : Create one variable containing following type of data: \n",
    "string \n",
    "list\n",
    "float\n",
    "tuple"
   ]
  },
  {
   "cell_type": "code",
   "execution_count": 15,
   "id": "581067a9-e418-4c5c-ab7a-04503270894d",
   "metadata": {},
   "outputs": [],
   "source": [
    "#Solution1\n",
    "a = \"AKSHAY\" , [\"Data Scientist\", \"Data Engineer\", \"Data Analyst\"] , 2.0 , (\"Akshay\",)"
   ]
  },
  {
   "cell_type": "code",
   "execution_count": 17,
   "id": "7cda0c10-c317-41b2-9144-73b8fe2f7f2d",
   "metadata": {},
   "outputs": [
    {
     "data": {
      "text/plain": [
       "('AKSHAY',\n",
       " ['Data Scientist', 'Data Engineer', 'Data Analyst'],\n",
       " 2.0,\n",
       " ('Akshay',))"
      ]
     },
     "execution_count": 17,
     "metadata": {},
     "output_type": "execute_result"
    }
   ],
   "source": [
    "#Data\n",
    "a"
   ]
  },
  {
   "cell_type": "markdown",
   "id": "640b082f-4429-4f35-a66f-e88bb6f09536",
   "metadata": {},
   "source": [
    "Question 2: What will be the data type of the following variables:\n",
    "var1 = ''\n",
    "var2 = '[DS, ML, PYTHON]'\n",
    "var3 = ['DS', 'ML', 'PYTHON']\n",
    "var4 = 1."
   ]
  },
  {
   "cell_type": "code",
   "execution_count": 18,
   "id": "9c855ad2-c3af-4b98-9bcf-0e2aad8f59e8",
   "metadata": {},
   "outputs": [],
   "source": [
    "var1 = ''"
   ]
  },
  {
   "cell_type": "code",
   "execution_count": 19,
   "id": "4971f5f1-979a-4e9b-b6a1-df05c35bc108",
   "metadata": {},
   "outputs": [
    {
     "data": {
      "text/plain": [
       "str"
      ]
     },
     "execution_count": 19,
     "metadata": {},
     "output_type": "execute_result"
    }
   ],
   "source": [
    "type(var1)"
   ]
  },
  {
   "cell_type": "code",
   "execution_count": 20,
   "id": "352428f1-23c5-49d2-856d-85a0523b5347",
   "metadata": {},
   "outputs": [],
   "source": [
    "var2 = '[DS, ML, PYTHON]'"
   ]
  },
  {
   "cell_type": "code",
   "execution_count": 21,
   "id": "0f55a7c6-1c8b-4a3d-af71-73664abcb4ca",
   "metadata": {},
   "outputs": [
    {
     "data": {
      "text/plain": [
       "str"
      ]
     },
     "execution_count": 21,
     "metadata": {},
     "output_type": "execute_result"
    }
   ],
   "source": [
    "type(var2)"
   ]
  },
  {
   "cell_type": "code",
   "execution_count": 22,
   "id": "f7981a7e-ee6d-41cf-9d24-15c57ea307e9",
   "metadata": {},
   "outputs": [],
   "source": [
    "var3 = ['DS', 'ML', 'PYTHON']"
   ]
  },
  {
   "cell_type": "code",
   "execution_count": 23,
   "id": "10b03b6b-90c7-4160-a99f-1722a94da0bb",
   "metadata": {},
   "outputs": [
    {
     "data": {
      "text/plain": [
       "list"
      ]
     },
     "execution_count": 23,
     "metadata": {},
     "output_type": "execute_result"
    }
   ],
   "source": [
    "type(var3)"
   ]
  },
  {
   "cell_type": "code",
   "execution_count": 24,
   "id": "748e8993-9df9-413b-a400-4b49d35ff8bc",
   "metadata": {},
   "outputs": [],
   "source": [
    "var4 = 1."
   ]
  },
  {
   "cell_type": "code",
   "execution_count": 25,
   "id": "d6dd30d4-4da5-4b48-b709-43eaf6f9f843",
   "metadata": {},
   "outputs": [
    {
     "data": {
      "text/plain": [
       "float"
      ]
     },
     "execution_count": 25,
     "metadata": {},
     "output_type": "execute_result"
    }
   ],
   "source": [
    "type(var4)"
   ]
  },
  {
   "cell_type": "markdown",
   "id": "30bded12-71ec-41f1-9777-83883b4c67b7",
   "metadata": {},
   "source": [
    "Question 3: Explain the use of following operators using an example:\n",
    "/\n",
    "%\n",
    "//\n",
    "**"
   ]
  },
  {
   "cell_type": "markdown",
   "id": "2b86d730-5dc2-4899-9f78-9f8cb2dbb7c6",
   "metadata": {},
   "source": [
    "#SOLUTUON:\n",
    "/ = This operator is divident operator. it is used for divide the given variable.\n",
    "% = This is modulous operator. it give the remainder of given two variable. \n",
    "// = This is floor division operator. it given the quotient of given two variable.\n",
    "** = This is exponential operator. it give the multiple of the given two variable."
   ]
  },
  {
   "cell_type": "code",
   "execution_count": 26,
   "id": "64b266fa-c30c-4312-91f1-8f07327b5f23",
   "metadata": {},
   "outputs": [
    {
     "name": "stdout",
     "output_type": "stream",
     "text": [
      "5.0\n"
     ]
    }
   ],
   "source": [
    "#FOR / OPERATOR\n",
    "a = 10\n",
    "b = 2\n",
    "c = a/b\n",
    "print(c)"
   ]
  },
  {
   "cell_type": "code",
   "execution_count": 28,
   "id": "22310b5f-70ae-4da7-9226-c89fa17110fd",
   "metadata": {},
   "outputs": [
    {
     "name": "stdout",
     "output_type": "stream",
     "text": [
      "0\n"
     ]
    }
   ],
   "source": [
    "#FOR % OPERATOR\n",
    "a = 10\n",
    "b = 2\n",
    "c = a%b\n",
    "print(c)"
   ]
  },
  {
   "cell_type": "code",
   "execution_count": 29,
   "id": "df6f6ba0-f266-4c70-891f-480aa6099679",
   "metadata": {},
   "outputs": [
    {
     "name": "stdout",
     "output_type": "stream",
     "text": [
      "5\n"
     ]
    }
   ],
   "source": [
    "#FOR // OPERATOR\n",
    "a = 10\n",
    "b = 2\n",
    "c = a//b\n",
    "print(c)"
   ]
  },
  {
   "cell_type": "code",
   "execution_count": 30,
   "id": "4017f47e-9840-47cc-9f43-1913bbe5d8cb",
   "metadata": {},
   "outputs": [
    {
     "name": "stdout",
     "output_type": "stream",
     "text": [
      "100\n"
     ]
    }
   ],
   "source": [
    "#FOR ** OPERATOR\n",
    "a = 10\n",
    "b = 2\n",
    "c = a**b\n",
    "print(c)"
   ]
  },
  {
   "cell_type": "markdown",
   "id": "f85d7330-2b46-4ef3-9d53-1f76b69aec7d",
   "metadata": {},
   "source": [
    "Question 4: Create a list of length 10 that containing different data types. using for loop to print its elements and data types."
   ]
  },
  {
   "cell_type": "code",
   "execution_count": 31,
   "id": "6d8a0160-b45a-4e87-ad67-520c885eccfd",
   "metadata": {},
   "outputs": [],
   "source": [
    "my_list = [2515, \"Akshay\", \"I'M Data Scientist\", 2.0 , True, [\"DS\" , \"ML\"], (\"AKSHAY\",), {\"DATA STRUCTURE\"}, 34454.56, False]"
   ]
  },
  {
   "cell_type": "code",
   "execution_count": 35,
   "id": "6889f825-38e0-4ef3-b85a-f1df528c5775",
   "metadata": {},
   "outputs": [
    {
     "name": "stdout",
     "output_type": "stream",
     "text": [
      "2515 Data type: <class 'int'>\n",
      "Akshay Data type: <class 'str'>\n",
      "I'M Data Scientist Data type: <class 'str'>\n",
      "2.0 Data type: <class 'float'>\n",
      "True Data type: <class 'bool'>\n",
      "['DS', 'ML'] Data type: <class 'list'>\n",
      "('AKSHAY',) Data type: <class 'tuple'>\n",
      "{'DATA STRUCTURE'} Data type: <class 'set'>\n",
      "34454.56 Data type: <class 'float'>\n",
      "False Data type: <class 'bool'>\n"
     ]
    }
   ],
   "source": [
    "for i in my_list:\n",
    "    print(i, 'Data type:',type(i))"
   ]
  },
  {
   "cell_type": "markdown",
   "id": "302483c2-a738-41f6-8f03-bb92e3b4d324",
   "metadata": {},
   "source": [
    "Question 5: Using while loop, verify if the number A is purely divisible by number B and if so then how many times it can be divisible.\n",
    "#SOLUTUION: In this statement, we can verify that number A is purely divisible by number B or not then it can be still divisible until a specified condition is true or false that we given in the while loop.  "
   ]
  },
  {
   "cell_type": "code",
   "execution_count": 41,
   "id": "01633e4e-554f-4477-a7c5-fd765388da0b",
   "metadata": {},
   "outputs": [
    {
     "name": "stdout",
     "output_type": "stream",
     "text": [
      "yes number A is purely divisible by number B\n",
      "yes number A is purely divisible by number B\n",
      "yes number A is purely divisible by number B\n",
      "yes number A is purely divisible by number B\n",
      "yes number A is purely divisible by number B\n",
      "yes number A is purely divisible by number B\n",
      "yes number A is purely divisible by number B\n",
      "yes number A is purely divisible by number B\n",
      "yes number A is purely divisible by number B\n",
      "yes number A is purely divisible by number B\n",
      "yes number A is purely divisible by number B\n",
      "No number A is not Purely divisible by number B\n"
     ]
    }
   ],
   "source": [
    "i = 0\n",
    "while(i<=10):\n",
    "    print(\"yes number A is purely divisible by number B\")\n",
    "    i = i+1\n",
    "else:\n",
    "    print(\"No number A is not Purely divisible by number B\")\n",
    "    "
   ]
  },
  {
   "cell_type": "markdown",
   "id": "d9fbe516-0361-41a8-9c64-962bc4ce16fe",
   "metadata": {},
   "source": [
    "Question 6: Create a list containing 25 int type data. Using for loop and if else condition print if element is divisible by 3 or not? "
   ]
  },
  {
   "cell_type": "code",
   "execution_count": 54,
   "id": "7affd5a6-1187-4196-8faf-2468b1a79555",
   "metadata": {},
   "outputs": [],
   "source": [
    "list1 = list(range(1, 26))"
   ]
  },
  {
   "cell_type": "code",
   "execution_count": 55,
   "id": "113b1d26-ade9-476f-a34a-26156fdc4218",
   "metadata": {},
   "outputs": [
    {
     "name": "stdout",
     "output_type": "stream",
     "text": [
      "1 number is not divisible by 3\n",
      "2 number is not divisible by 3\n",
      "3 number is divisible by 3\n",
      "4 number is not divisible by 3\n",
      "5 number is not divisible by 3\n",
      "6 number is divisible by 3\n",
      "7 number is not divisible by 3\n",
      "8 number is not divisible by 3\n",
      "9 number is divisible by 3\n",
      "10 number is not divisible by 3\n",
      "11 number is not divisible by 3\n",
      "12 number is divisible by 3\n",
      "13 number is not divisible by 3\n",
      "14 number is not divisible by 3\n",
      "15 number is divisible by 3\n",
      "16 number is not divisible by 3\n",
      "17 number is not divisible by 3\n",
      "18 number is divisible by 3\n",
      "19 number is not divisible by 3\n",
      "20 number is not divisible by 3\n",
      "21 number is divisible by 3\n",
      "22 number is not divisible by 3\n",
      "23 number is not divisible by 3\n",
      "24 number is divisible by 3\n",
      "25 number is not divisible by 3\n"
     ]
    }
   ],
   "source": [
    "for i in list1:\n",
    "    if i%3==0:\n",
    "        print(i, \"number is divisible by 3\")\n",
    "    else:\n",
    "        print(i, \"number is not divisible by 3\")\n"
   ]
  },
  {
   "cell_type": "markdown",
   "id": "5c6e1ca5-1454-4086-ad3f-ce36caba5d4f",
   "metadata": {},
   "source": [
    "Question 7: What do you understand by mutable and immutable data types? Give examples for both data types?"
   ]
  },
  {
   "cell_type": "markdown",
   "id": "6a06e201-1b40-478d-b02e-62bfb34e9e62",
   "metadata": {},
   "source": [
    "#SOLUTION: \n",
    "MUTABLE DATA TYPE :  This data types means we can change or add something new in given declared variable or data type via item assignemnt like list, set, dictionaries.\n",
    "IMMUTABLE DATA TYPE: This data types means we can not change or add something new in given declared variable or data type via item assignment like int, string, tuple."
   ]
  },
  {
   "cell_type": "code",
   "execution_count": 59,
   "id": "e3426a40-0a19-4f61-b2f5-7c655123bd91",
   "metadata": {},
   "outputs": [
    {
     "ename": "NameError",
     "evalue": "name 'g' is not defined",
     "output_type": "error",
     "traceback": [
      "\u001b[0;31m---------------------------------------------------------------------------\u001b[0m",
      "\u001b[0;31mNameError\u001b[0m                                 Traceback (most recent call last)",
      "Cell \u001b[0;32mIn[59], line 4\u001b[0m\n\u001b[1;32m      1\u001b[0m \u001b[38;5;66;03m#EXAMPLE\u001b[39;00m\n\u001b[1;32m      2\u001b[0m \u001b[38;5;66;03m#STRING immutable data type\u001b[39;00m\n\u001b[1;32m      3\u001b[0m string1 \u001b[38;5;241m=\u001b[39m \u001b[38;5;124m\"\u001b[39m\u001b[38;5;124mAkshay\u001b[39m\u001b[38;5;124m\"\u001b[39m\n\u001b[0;32m----> 4\u001b[0m string1[\u001b[38;5;241m4\u001b[39m] \u001b[38;5;241m=\u001b[39m \u001b[43mg\u001b[49m\n",
      "\u001b[0;31mNameError\u001b[0m: name 'g' is not defined"
     ]
    }
   ],
   "source": [
    "#EXAMPLE\n",
    "#STRING immutable data type\n",
    "string1 = \"Akshay\"\n",
    "string1[4] = g"
   ]
  },
  {
   "cell_type": "code",
   "execution_count": 60,
   "id": "55565e3f-28a5-4ed3-81db-18df5c4470ba",
   "metadata": {},
   "outputs": [],
   "source": [
    "#LIST  mutable data type\n",
    "my_list1 = ['AKSHAY', 67]\n",
    "my_list1[1] = 786"
   ]
  },
  {
   "cell_type": "code",
   "execution_count": 61,
   "id": "407cece7-4c89-4cef-9e6e-851b9ca10edf",
   "metadata": {},
   "outputs": [
    {
     "name": "stdout",
     "output_type": "stream",
     "text": [
      "['AKSHAY', 786]\n"
     ]
    }
   ],
   "source": [
    "print(my_list1)"
   ]
  },
  {
   "cell_type": "code",
   "execution_count": null,
   "id": "438a2de7-bff6-436d-b96b-602cd94f7ee5",
   "metadata": {},
   "outputs": [],
   "source": []
  }
 ],
 "metadata": {
  "kernelspec": {
   "display_name": "Python 3 (ipykernel)",
   "language": "python",
   "name": "python3"
  },
  "language_info": {
   "codemirror_mode": {
    "name": "ipython",
    "version": 3
   },
   "file_extension": ".py",
   "mimetype": "text/x-python",
   "name": "python",
   "nbconvert_exporter": "python",
   "pygments_lexer": "ipython3",
   "version": "3.10.8"
  }
 },
 "nbformat": 4,
 "nbformat_minor": 5
}
